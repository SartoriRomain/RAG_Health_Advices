{
 "cells": [
  {
   "cell_type": "markdown",
   "metadata": {},
   "source": [
    "# Le script rag_main charge les embeddings et les chunks depuis embeddings/, puis encode une question utilisateur avec le même modèle d’embeddings pour trouver les chunks les plus similaires via cosine_similarity.\n",
    "# Il récupère les morceaux de texte pertinents (top_k, ex. 3), les combine en un contexte, et envoie ce contexte avec la question à l’API Gemini pour générer une réponse.\n",
    "# Cette étape combine la récupération (retrieval) et la génération (augmentation) pour fournir une réponse précise basée sur les données scientifiques extraites des PDFs."
   ]
  },
  {
   "cell_type": "code",
   "execution_count": 5,
   "metadata": {},
   "outputs": [],
   "source": [
    "#pip install google-cloud-aiplatform"
   ]
  },
  {
   "cell_type": "code",
   "execution_count": 6,
   "metadata": {},
   "outputs": [],
   "source": [
    "#pip install einops"
   ]
  },
  {
   "cell_type": "code",
   "execution_count": 7,
   "metadata": {},
   "outputs": [],
   "source": [
    "#Importations\n",
    "import os\n",
    "import numpy as np\n",
    "from dotenv import load_dotenv\n",
    "from sentence_transformers import SentenceTransformer\n",
    "from sklearn.metrics.pairwise import cosine_similarity\n",
    "import openai"
   ]
  },
  {
   "cell_type": "code",
   "execution_count": 8,
   "metadata": {},
   "outputs": [],
   "source": [
    "# Charger les variables d'environnement depuis le fichier .env\n",
    "load_dotenv()\n",
    "\n",
    "# Configuration des modèles et clé API\n",
    "embedding_model = SentenceTransformer(\"all-MiniLM-L6-v2\")  \n",
    "\n",
    "def get_api_key():\n",
    "    api_key = os.getenv(\"GOOGLE_API_KEY\")  # Récupérer la clé API depuis .env\n",
    "    if not api_key:\n",
    "        api_key = input(\"Veuillez entrer votre clé API Google : \").strip()\n",
    "        if not api_key:\n",
    "            raise ValueError(\"Aucune clé API fournie. Définissez GOOGLE_API_KEY dans .env ou entrez-la manuellement.\")\n",
    "    return api_key\n",
    "\n",
    "GOOGLE_API_KEY = get_api_key()\n",
    "\n",
    "client = openai.OpenAI(\n",
    "    api_key=GOOGLE_API_KEY,\n",
    "    base_url=\"https://generativelanguage.googleapis.com/v1beta/openai/\"\n",
    ")\n"
   ]
  },
  {
   "cell_type": "code",
   "execution_count": 9,
   "metadata": {},
   "outputs": [],
   "source": [
    "# Cellule 3 : Fonctions de chargement et récupération\n",
    "def load_embeddings(embedding_dir):\n",
    "    embedding_path = os.path.join(embedding_dir, \"embeddings.npy\")\n",
    "    embeddings = np.load(embedding_path)\n",
    "    \n",
    "    chunk_path = os.path.join(embedding_dir, \"chunk_mapping.txt\")\n",
    "    chunks = []\n",
    "    with open(chunk_path, \"r\", encoding=\"utf-8\") as f:\n",
    "        for i, line in enumerate(f, 1):\n",
    "            parts = line.strip().split(\"|||\")\n",
    "            if len(parts) < 2:\n",
    "                raise ValueError(f\"Erreur ligne {i} dans chunk_mapping.txt : moins de 2 parties ({line.strip()})\")\n",
    "            filename = parts[0]\n",
    "            chunk = \"|||\".join(parts[1:])\n",
    "            chunks.append(chunk)\n",
    "    return embeddings, chunks\n",
    "\n",
    "def retrieve_relevant_chunks(question, embeddings, chunks, model, top_k=3):\n",
    "    question_embedding = model.encode(question, convert_to_tensor=False)\n",
    "    similarities = cosine_similarity([question_embedding], embeddings)[0]\n",
    "    top_indices = similarities.argsort()[-top_k:][::-1]\n",
    "    return [chunks[i] for i in top_indices], similarities[top_indices]"
   ]
  },
  {
   "cell_type": "code",
   "execution_count": 10,
   "metadata": {},
   "outputs": [],
   "source": [
    "#Génération avec Gemini\n",
    "def generate_answer_gemini(question, context):\n",
    "    prompt = f\"Question : {question}\\nContexte : {context}\\nRéponse :\"\n",
    "    response = client.chat.completions.create(\n",
    "        model=\"gemini-2.0-flash-exp\",\n",
    "        messages=[\n",
    "            {\"role\": \"system\", \"content\": \"Vous êtes un assistant utile qui répond aux questions basées sur le contexte fourni.\"},\n",
    "            {\"role\": \"user\", \"content\": prompt}\n",
    "        ],\n",
    "        max_tokens=150,\n",
    "        temperature=0.7\n",
    "    )\n",
    "    answer = response.choices[0].message.content\n",
    "    return answer.split(\"Réponse :\")[1].strip() if \"Réponse :\" in answer else answer.strip()"
   ]
  },
  {
   "cell_type": "code",
   "execution_count": 11,
   "metadata": {},
   "outputs": [
    {
     "name": "stdout",
     "output_type": "stream",
     "text": [
      "\n",
      "Question : what are the mechanism behind the fact that execising might improve mental health\n",
      "Contexte trouvé : health ally accepted minimum number of 10 studies needed for conditions. A possible mechanism of action may involve quantitatively estimate the funnel plot asymmetry was elevated levels of brain-derived neurotrophic factor or not present in69(46%) CSRs. beta-endorphins [195]. Strengths of this research are the inclusion of large We found the issue of poor reporting or underreport- number of ‘gold standard’ systematic reviews, robust ing of adherence/withdrawals in over a quarter of CSRs screening, data extractions and critical methodological (25.3%). This is crucial both for improving the accuracy appraisal. Nevertheless, some weaknesses need to be of the estimates at the RCT level as well as maintaining highlighted when interpreting findings of this overview. high levels of physical activity and associated health ben- For instance, some of these CSRs analysed the same pri- efits atthepopulationlevel. mary studies (RCTs) but, arrived at slightly different Even the most promising interventions are not entirely conclusions. Using, the Pieper et al. [39] formula, the risk-free; and some minor AEs such as post-exercise amount of overlap ranged from 0.01% for AEs to 0.2% pain and soreness or discomfort related to physical ac- for adherence, which indicates slight overlap. All CSRs tivity/exercise have been reported. These were typically are vulnerable to publication bias [196] - hence thePosadzkietal.BMCPublicHealth (2020) 20:1724 Page8of12 conclusions generated by them may be false-positive. Authors’contributions Also, exercise was sometimes part of a complex inter- PPwrotetheprotocol,ranthesearches,validated,analysedandsynthesised data,wroteandrevisedthedrafts.HM,NKandALNscreenedandextracted vention; and the effects of physical activity could not be data.MSandDPvalidatedandanalysedthedata.RBranstatisticalanalyses. distinguished from co-interventions. Often there were Allauthorscontributedtowritingandreviewingthemanuscript.PPisthe confounding effects of diet, educational, behavioural or guarantor.Theauthorsreadandapprovedthefinalmanuscript. lifestyle interventions; selection, and measurement bias Funding were inevitably inherited in this overview too. Also, in- Therewasnofundingsourceforthisstudy.OpenAccessfundingenabled cluding CSRs only might lead to selection bias; and ex- andorganizedbyProjektDEAL. cluding reviews published before 2000 might limit the Availabilityofdataandmaterials overall completeness and applicability of the evidence. A Datasharingisnotapplicabletothisarticleasnorawdatawereanalysed future update should consider these limitations, and in duringthecurrentstudy.Allinformationinthisarticleisbasedonpublished particularalso includingnon-CSRs. systematicreviews. Ethicsapprovalandconsenttoparticipate Conclusions Notapplicable. Trialists must improve the quality of primary studies. At Consentforpublication thesametime,strictcompliancewiththereportingstan- Notapplicable. dardsshouldbeenforced.AuthorsofCSRsshouldbetter Competinginterests explain eligibility criteria and report sources of funding Theauthorsdeclarethattheyhavenocompetinginterests. for the primary studies. There are still insufficient phys- ical activity trends worldwide amongst all age groups; Authordetails 1KleijnenSystematicReviewsLtd.,York,UK.2NanyangTechnological and scalable interventions aimed at increasing physical University,Singapore,Singapore.3InstituteforResearchinOperative activity levels should be prioritized [197]. Hence, policy- Medicine,Witten/HerdeckeUniversity,Witten,Germany.4SchoolofMedicine, makers and practitioners need to design and implement KeeleUniversity,Staffordshire,UK.5JozefPilsudskiUniversityofPhysical EducationinWarsaw,FacultyPhysicalEducationandHealth,BialaPodlaska, comprehensive and coordinated strategies aimed at tar- Poland.6HealthOutcomesDivision,UniversityofTexasatAustinCollegeof geting physical activity programs/interventions, health Pharmacy,Austin,USA. promotion and disease prevention campaigns at local, Received:1April2020Accepted:8November2020 regional,national, andinternational levels[198]. References Supplementary Information 1. https://www.who.int/dietphysicalactivity/pa/en/.(Accessed8June2020). Theonlineversioncontainssupplementarymaterialavailableathttps://doi. 2. PiercyKL,TroianoRP,BallardRM,CarlsonSA,FultonJE,GaluskaDA,George org/10.1186/s12889-020-09855-3. SM,OlsonRD.ThephysicalactivityguidelinesforAmericansPhysicalactivity guidelinesforAmericansPhysicalactivityguidelinesforAmericans.Jama. Additionalfile1:SupplementaryTable1.Maincharacteristicsof 2018;320(19):2020–8. includedCochranesystematicreviewsevaluatingtheeffectsofphysical 3. KyuHH,BachmanVF,AlexanderLT,MumfordJE,AfshinA,EstepK,Veerman activity/exerciseonhealthoutcomes(n=150).SupplementaryTable2. JL,DelwicheK,IannaroneML,MoyerML,etal.Physicalactivityandriskof AdditionalinformationfromCochranesystematicreviewsoftheeffects breastcancer,coloncancer,diabetes,ischemicheartdisease,andischemic ofphysicalactivity/exerciseonhealthoutcomes(n=150). strokeevents:systematicreviewanddose-responsemeta-analysisforthe SupplementaryTable3.ConclusionsfromCochranesystematic globalburdenofdiseasestudy2013.BMJ.2016;354:i3857. reviews“quote”.SupplementaryTable4.AEsreportedinCochrane 4. AbellB,GlasziouP,HoffmannT.Thecontributionofindividualexercise systematicreviews.SupplementaryTable5.Summaryofwithdrawals/ trainingcomponentstoclinicaloutcomesinrandomisedcontrolledtrialsof non-adherence.SupplementaryTable6.Methodologicalquality cardiacrehabilitation:asystematicreviewandmeta-regression.SportsMed assessmentoftheincludedCochranereviewswithAMSTAR-2. Open.2017;3(1):19. SupplementaryTable7.Numberofstudiesassessedaslowriskofbias 5. AndersonD,SeibC,RasmussenL.Canphysicalactivitypreventphysicaland perdomain.SupplementaryTable8.GRADEforthereview’smain cognitivedeclineinpostmenopausalwomen?Asystematicreviewofthe comparison.SupplementaryTable9.Studiesreportingqualityoflife literature.Maturitas.2014;79(1):14–33. outcomesasmeandifference. 6. BarbaricM,BrooksE,MooreL,CheifetzO.Effectsofphysicalactivityon cancersurvival:asystematicreview.PhysiotherCan.2010;62(1):25–34. 7. BarlowPA,OtahalP,SchultzMG,ShingCM,SharmanJE.Lowexerciseblood pressureandriskofcardiovasculareventsandall-causemortality:systematic Abbreviations reviewandmeta-analysis.Atherosclerosis.2014;237(1):13–22. AEs:Adverseevents;CVD:Cardiovasculardiseases;CDSR:CochraneDatabase 8. AljawarnehYM,WardellDW,WoodGL,RozmusCL.Asystematicreviewof ofSystematicReviews;CSRs:Cochranesystematicreviews;CI:Confidence physicalactivityandexerciseonphysiologicalandbiochemicaloutcomesin interval;GRADE:GradingofRecommendationsAssessment,Development childrenandadolescentswithtype1diabetes.JNursScholarsh.2019. andEvaluation;HR:Hazardratio;IQR:Interquartilerange;MD:Mean 9. ChastinSFM,DeCraemerM,DeCockerK,PowellL,VanCauwenbergJ,Dall difference;OR:Oddsratio;PI:Predictioninterval;QOL:Qualityoflife; P,HamerM,StamatakisE.Howdoeslight-intensityphysicalactivity RCTs:Randomisedcontrolledtrials;RR:Relativerisk;RD:Riskdifference; associatewithadultcardiometabolichealthandmortality?Systematic ROB:Riskofbias;SE:Standarderror;SMD:Standardisedmeandifference; reviewwithmeta-analysisofexperimentalandobservationalstudies.BrJ WHO:WorldHealthOrganization SportsMed.2019;53(6):370–6. 10. AbdullaSY,SoutherstD,CoteP,ShearerHM,SuttonD,RandhawaK, Acknowledgements VaratharajanS,WongJJ,YuH,MarchandAA,etal.Isexerciseeffectivefor Notapplicable. themanagementofsubacromialimpingementsyndromeandothersoftPosadzkietal.BMCPublicHealth (2020) 20:1724 Page9of12 tissueinjuriesoftheshoulder?AsystematicreviewbytheOntarioprotocol umbrellareviewofhealthoutcomesandbiologicalmechanismsofaction. fortrafficinjurymanagement(OPTIMa)collaboration.ManTher.2015;20(5): BMCMed.2018;16(1):18. 646–56. 34. BellouV,BelbasisL,TzoulakiI,EvangelouE,IoannidisJP.Environmentalrisk 11. AlanaziMH,ParentEC,DennettE.Effectofstabilizationexerciseonback factorsandParkinson'sdisease:anumbrellareviewofmeta-analyses. pain,disabilityandqualityoflifeinadultswithscoliosis:asystematic ParkinsonismRelatDisord.2016;23:1–9.\n",
      "Comment Does every move really count towards better health? In 2012, as part of the first Lancet Series on physical norms, economic circumstances, and availability of Published Online activity, data from 122 countries and territories were environments conducive to health-enhancing physical June 25, 2024 https://doi.org/10.1016/ used to produce the first ever estimate of the global activity for individuals and communities. In this context, S2214-109X(24)00173-6 burden of physical inactivity among adults, showing is it fair and ethical to continue stating that “every move See Articles page e1232 a prevalence of 31·1%.1 Now, after more than a decade counts towards better health”?9 and using data from 507 surveys with more than In fact, a 2020 publication by Strain and colleagues 5·7 million people from 163 countries and territories, using data from 104 countries10 offers many insights Tessa Strain and colleagues2 estimated that 31·3% of on the context in which physical activity is practiced the adults worldwide are physically inactive and provide globally. In 80 of the 104 countries included in the insights on the effect of inactivity on global health. The analyses, work and household domains were the main Article offers a wealth of national, regional, and age- contributor to overall physical activity. Interestingly, specific information for researchers, policy makers, leisure time was the largest contributor to overall and health professionals. However, it is of note that physical activity in only one of 104 countries. A despite the unequivocal progress in surveillance, data striking finding is that the authors observed a seven- availability, and global capacity in physical activity fold difference in the contribution of leisure time to research and policy,3 the world is yet to observe declining overall physical activity when comparing low-income trends in physical inactivity. Therefore, Strain and countries (4%) with high-income countries (28%).10 It is colleagues2 correctly predict that the global target4 therefore no surprise that the recent publication using of a 15·0% relative reduction in physical inactivity data from 163 countries2 found that the prevalence between 2010 and 2030 is unlikely to be met. In this of overall physical inactivity was 48·1% in the high- Comment, we present a new perspective for estimating income Asia Pacific region and 16·8% in sub-Saharan and monitoring the burden of physical inactivity in the Africa. Strikingly, the prevalence of inactivity was Global South, and propose new directions for global 2·7% in Malawi and 66·1% in United Arab Emirates.2 physical activity surveillance, research, and policy. Furthermore, the 2020 publication by Strain and The estimates presented by Strain and colleagues2 colleagues analysing the domains of physical activity10 consider overall physical activity, including activities practiced in different domains of life: leisure, travel, Strenuous activity (child labour) Strenuous activity (prolonged standing) work, and household. By adding these activities into a single physical activity score, relevant information about the purpose and context of physical activity might be missed. In terms of purpose, it is essential to differentiate physical activity practiced by necessity from physical activity practice by choice.5 Many forms of child labour; underpaid, unsafe, and\n",
      "Elsevier Ltd. All rights reserved. This is an Open Access and Biostatistics, Imperial article published under the CC BY 3.0 IGO license which permits unrestricted use, distribution, and reproduction in College London, London, UK any medium, provided the original work is properly cited. In any use of this Article, there should be no suggestion (E Semenova), Department of that WHO endorses any specific organisation, products or services. The use of the WHO logo is not permitted. This Noncommunicable Diseases, Rehabilitation & Disability notice should be preserved along with the Article’s original URL. (M Cowan MPH, L M Riley MSc, G A Stevens DSc), and Introduction 18 years and older), including those living with chronic Department of Health Regular physical activity reduces the risk of non- conditions or disabilities, and pregnant or postpartum Promotion (Prof F C Bull PhD), World Health Organization, communicable diseases, poor physical and cognitive people. The World Health Assembly (WHA) set a target Geneva, Switzerland; function, and mental ill-health,1,2 and has benefits of a 15% relative reduction in insufficient physical Department of Sport Science for mental wellbeing and weight maintenance.1,2 The activity between 2010 and 2030.3,4 There is inconsistent Exercise and Health, School of Human Sciences, University of 2020 WHO physical activity guidelines recommend and insufficient monitoring of other behaviours Western Australia, Perth, adults do at least 150 mins of moderate-intensity activity included in the physical activity guidelines (muscle Australia (Prof F C Bull) per week, 75 mins of vigorous-intensity activity, or an strengthening, balance activities [for older adults aged equivalent combination to confer many of these ≥65 years], and sedentary time2) to produce global benefits.2 Individuals not meeting this aerobic activity estimates and targets.5,6 recommendation are considered to be insufficiently Previous studies have presented comparable estimates physically active—this applies to all adults (aged of adult insufficient physical activity for countries or www.thelancet.com/lancetgh Vol 12 August 2024 e1232Articles Correspondence to: Research in context Dr Gretchen A Stevens, Department of Evidence before this study Added value of this study Noncommunicable Diseases, Rehabilitation & Disability, World WHO has previously presented internationally comparable This study provides estimates of global, regional, and country Health Organization, estimates of insufficient physical activity among adults, the levels of insufficient physical activity for 2000–22. For the first Geneva 1211, Switzerland most recent of which (Guthold and colleagues, 2018) estimated time, we estimated insufficient physical activity prevalence for stevensg@who.int the global prevalence to be 27·5% in 2016 using data from 197 countries and territories, regionally and globally; made 358 population-based surveys. This study was the first analysis estimates for seven age groups; and tracked progress towards to estimate trends in insufficient physical activity, and it found the global target of reducing the prevalence of insufficient no change in global prevalence since 2001. However, global and physical activity by a relative 15% by 2030. regional trends in insufficient physical activity were estimated Implications of all the available evidence using data from only 65 countries and territories, with Nearly a third of the global population did not meet\n",
      "Réponse générée : I am sorry, but this document does not contain the answer to your question about the mechanism behind the fact that exercising might improve mental health. However, it does mention that regular physical activity reduces the risk of non-communicable diseases, poor physical and cognitive function, and mental ill-health, and has benefits for mental wellbeing and weight maintenance.\n"
     ]
    }
   ],
   "source": [
    "# Cellule 5 : Exécution principale\n",
    "embedding_dir = r\"C:\\Users\\sarto\\OneDrive\\Bureau\\RAG\\embeddings\"\n",
    "embeddings, chunks = load_embeddings(embedding_dir)\n",
    "\n",
    "question = \"what are the mechanism behind the fact that execising might improve mental health\"\n",
    "print(f\"\\nQuestion : {question}\")\n",
    "\n",
    "relevant_chunks, scores = retrieve_relevant_chunks(question, embeddings, chunks, embedding_model)\n",
    "context = \"\\n\".join(relevant_chunks)\n",
    "print(\"Contexte trouvé :\", context)\n",
    "\n",
    "try:\n",
    "    answer = generate_answer_gemini(question, context)\n",
    "    print(\"Réponse générée :\", answer)\n",
    "except Exception as e:\n",
    "    print(f\"Erreur avec l'API Gemini : {e}\")"
   ]
  }
 ],
 "metadata": {
  "kernelspec": {
   "display_name": "base",
   "language": "python",
   "name": "python3"
  },
  "language_info": {
   "codemirror_mode": {
    "name": "ipython",
    "version": 3
   },
   "file_extension": ".py",
   "mimetype": "text/x-python",
   "name": "python",
   "nbconvert_exporter": "python",
   "pygments_lexer": "ipython3",
   "version": "3.11.5"
  }
 },
 "nbformat": 4,
 "nbformat_minor": 2
}
